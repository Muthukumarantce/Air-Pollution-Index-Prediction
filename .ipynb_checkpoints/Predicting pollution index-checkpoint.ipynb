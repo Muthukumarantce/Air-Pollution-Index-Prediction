{
 "cells": [
  {
   "cell_type": "code",
   "execution_count": 1,
   "metadata": {
    "collapsed": true
   },
   "outputs": [],
   "source": [
    "import numpy as np\n",
    "import pandas as pd\n",
    "import matplotlib.pyplot as plt\n",
    "from sklearn.model_selection import train_test_split\n",
    "from sklearn.linear_model import LinearRegression"
   ]
  },
  {
   "cell_type": "code",
   "execution_count": 8,
   "metadata": {},
   "outputs": [
    {
     "name": "stdout",
     "output_type": "stream",
     "text": [
      "             date_time is_holiday  humidity  wind_speed  wind_direction  \\\n",
      "0  2017-05-18 00:00:00       None        63           1              27   \n",
      "1  2017-05-18 00:00:00       None        63           1              27   \n",
      "2  2017-05-18 00:00:00       None        56           1               0   \n",
      "3  2017-05-18 01:00:00       None        56           1             351   \n",
      "4  2017-05-18 01:00:00       None        56           1             351   \n",
      "\n",
      "   visibility_in_miles  dew_point  temperature  rain_p_h  snow_p_h  \\\n",
      "0                    4          4       285.15       0.0         0   \n",
      "1                    4          4       285.15       0.0         0   \n",
      "2                    1          1       285.15       0.0         0   \n",
      "3                    2          2       284.79       0.0         0   \n",
      "4                    1          1       284.79       0.0         0   \n",
      "\n",
      "   clouds_all weather_type  traffic_volume  \n",
      "0          90         Rain             646  \n",
      "1          90         Mist             646  \n",
      "2          90      Drizzle             646  \n",
      "3          90         Rain             353  \n",
      "4          90         Mist             353  \n",
      "             date_time is_holiday  humidity  wind_speed  wind_direction  \\\n",
      "0  2012-10-02 09:00:00       None        89           2             329   \n",
      "1  2012-10-02 10:00:00       None        67           3             330   \n",
      "2  2012-10-02 11:00:00       None        66           3             329   \n",
      "3  2012-10-02 12:00:00       None        66           3             329   \n",
      "4  2012-10-02 13:00:00       None        65           3             329   \n",
      "\n",
      "   visibility_in_miles  dew_point  temperature  rain_p_h  snow_p_h  \\\n",
      "0                    1          1       288.28       0.0       0.0   \n",
      "1                    1          1       289.36       0.0       0.0   \n",
      "2                    2          2       289.58       0.0       0.0   \n",
      "3                    5          5       290.13       0.0       0.0   \n",
      "4                    7          7       291.14       0.0       0.0   \n",
      "\n",
      "   clouds_all weather_type  air_pollution_index  traffic_volume  \n",
      "0          40       Clouds                  121            5545  \n",
      "1          75       Clouds                  178            4516  \n",
      "2          90       Clouds                  113            4767  \n",
      "3          90       Clouds                   20            5026  \n",
      "4          75       Clouds                  281            4918  \n"
     ]
    }
   ],
   "source": [
    "pd.set_option('display.max_rows',None)\n",
    "pd.set_option('display.max_columns',None)\n",
    "test_data = pd.read_csv(\"test.csv\")\n",
    "train_data = pd.read_csv(\"train.csv\")\n",
    "print(test_data.head(5))\n",
    "print(train_data.head(5))"
   ]
  },
  {
   "cell_type": "code",
   "execution_count": 9,
   "metadata": {},
   "outputs": [
    {
     "data": {
      "text/plain": [
       "array(['2012-10-02 09:00:00', '2012-10-02 10:00:00', '2012-10-02 11:00:00',\n",
       "       ..., '2017-05-17 21:00:00', '2017-05-17 22:00:00',\n",
       "       '2017-05-17 23:00:00'], dtype=object)"
      ]
     },
     "execution_count": 9,
     "metadata": {},
     "output_type": "execute_result"
    }
   ],
   "source": [
    "train_data['date_time'].unique()"
   ]
  },
  {
   "cell_type": "code",
   "execution_count": 10,
   "metadata": {},
   "outputs": [
    {
     "name": "stdout",
     "output_type": "stream",
     "text": [
      "<class 'pandas.core.frame.DataFrame'>\n",
      "RangeIndex: 14454 entries, 0 to 14453\n",
      "Data columns (total 13 columns):\n",
      "date_time              14454 non-null object\n",
      "is_holiday             14454 non-null object\n",
      "humidity               14454 non-null int64\n",
      "wind_speed             14454 non-null int64\n",
      "wind_direction         14454 non-null int64\n",
      "visibility_in_miles    14454 non-null int64\n",
      "dew_point              14454 non-null int64\n",
      "temperature            14454 non-null float64\n",
      "rain_p_h               14454 non-null float64\n",
      "snow_p_h               14454 non-null int64\n",
      "clouds_all             14454 non-null int64\n",
      "weather_type           14454 non-null object\n",
      "traffic_volume         14454 non-null int64\n",
      "dtypes: float64(2), int64(8), object(3)\n",
      "memory usage: 1.4+ MB\n",
      "<class 'pandas.core.frame.DataFrame'>\n",
      "RangeIndex: 14454 entries, 0 to 14453\n",
      "Data columns (total 12 columns):\n",
      "Christmas Day                14454 non-null uint8\n",
      "Columbus Day                 14454 non-null uint8\n",
      "Independence Day             14454 non-null uint8\n",
      "Labor Day                    14454 non-null uint8\n",
      "Martin Luther King Jr Day    14454 non-null uint8\n",
      "Memorial Day                 14454 non-null uint8\n",
      "New Years Day                14454 non-null uint8\n",
      "None                         14454 non-null uint8\n",
      "State Fair                   14454 non-null uint8\n",
      "Thanksgiving Day             14454 non-null uint8\n",
      "Veterans Day                 14454 non-null uint8\n",
      "Washingtons Birthday         14454 non-null uint8\n",
      "dtypes: uint8(12)\n",
      "memory usage: 169.5 KB\n",
      "<class 'pandas.core.frame.DataFrame'>\n",
      "RangeIndex: 14454 entries, 0 to 14453\n",
      "Data columns (total 10 columns):\n",
      "Weather_Clear           14454 non-null uint8\n",
      "Weather_Clouds          14454 non-null uint8\n",
      "Weather_Drizzle         14454 non-null uint8\n",
      "Weather_Fog             14454 non-null uint8\n",
      "Weather_Haze            14454 non-null uint8\n",
      "Weather_Mist            14454 non-null uint8\n",
      "Weather_Rain            14454 non-null uint8\n",
      "Weather_Smoke           14454 non-null uint8\n",
      "Weather_Snow            14454 non-null uint8\n",
      "Weather_Thunderstorm    14454 non-null uint8\n",
      "dtypes: uint8(10)\n",
      "memory usage: 141.2 KB\n"
     ]
    }
   ],
   "source": [
    "test_data.info()\n",
    "test_data['is_holiday'] = test_data['is_holiday'].astype(str)\n",
    "test_data['weather_type'] = test_data['weather_type'].astype(str)\n",
    "df1 = pd.get_dummies(test_data['is_holiday'])\n",
    "df1.head(1)\n",
    "df2 = pd.get_dummies(test_data['weather_type'],prefix=\"Weather\")\n",
    "df2.head(2)\n",
    "test_data=test_data.drop([\"is_holiday\",\"weather_type\"],axis=1)\n",
    "df1.info()\n",
    "df2.info()\n",
    "test_data=pd.concat([test_data,df1,df2],axis=1)"
   ]
  },
  {
   "cell_type": "code",
   "execution_count": 11,
   "metadata": {},
   "outputs": [
    {
     "name": "stdout",
     "output_type": "stream",
     "text": [
      "<class 'pandas.core.frame.DataFrame'>\n",
      "RangeIndex: 33750 entries, 0 to 33749\n",
      "Data columns (total 14 columns):\n",
      "date_time              33750 non-null object\n",
      "is_holiday             33750 non-null object\n",
      "humidity               33750 non-null int64\n",
      "wind_speed             33750 non-null int64\n",
      "wind_direction         33750 non-null int64\n",
      "visibility_in_miles    33750 non-null int64\n",
      "dew_point              33750 non-null int64\n",
      "temperature            33750 non-null float64\n",
      "rain_p_h               33750 non-null float64\n",
      "snow_p_h               33750 non-null float64\n",
      "clouds_all             33750 non-null int64\n",
      "weather_type           33750 non-null object\n",
      "air_pollution_index    33750 non-null int64\n",
      "traffic_volume         33750 non-null int64\n",
      "dtypes: float64(3), int64(8), object(3)\n",
      "memory usage: 3.6+ MB\n",
      "<class 'pandas.core.frame.DataFrame'>\n",
      "RangeIndex: 33750 entries, 0 to 33749\n",
      "Data columns (total 12 columns):\n",
      "Christmas Day                33750 non-null uint8\n",
      "Columbus Day                 33750 non-null uint8\n",
      "Independence Day             33750 non-null uint8\n",
      "Labor Day                    33750 non-null uint8\n",
      "Martin Luther King Jr Day    33750 non-null uint8\n",
      "Memorial Day                 33750 non-null uint8\n",
      "New Years Day                33750 non-null uint8\n",
      "None                         33750 non-null uint8\n",
      "State Fair                   33750 non-null uint8\n",
      "Thanksgiving Day             33750 non-null uint8\n",
      "Veterans Day                 33750 non-null uint8\n",
      "Washingtons Birthday         33750 non-null uint8\n",
      "dtypes: uint8(12)\n",
      "memory usage: 395.6 KB\n",
      "<class 'pandas.core.frame.DataFrame'>\n",
      "RangeIndex: 33750 entries, 0 to 33749\n",
      "Data columns (total 11 columns):\n",
      "Weather_Clear           33750 non-null uint8\n",
      "Weather_Clouds          33750 non-null uint8\n",
      "Weather_Drizzle         33750 non-null uint8\n",
      "Weather_Fog             33750 non-null uint8\n",
      "Weather_Haze            33750 non-null uint8\n",
      "Weather_Mist            33750 non-null uint8\n",
      "Weather_Rain            33750 non-null uint8\n",
      "Weather_Smoke           33750 non-null uint8\n",
      "Weather_Snow            33750 non-null uint8\n",
      "Weather_Squall          33750 non-null uint8\n",
      "Weather_Thunderstorm    33750 non-null uint8\n",
      "dtypes: uint8(11)\n",
      "memory usage: 362.6 KB\n"
     ]
    }
   ],
   "source": [
    "train_data.info()\n",
    "train_data['is_holiday'] = train_data['is_holiday'].astype(str)\n",
    "train_data['weather_type'] = train_data['weather_type'].astype(str)\n",
    "df1 = pd.get_dummies(train_data['is_holiday'])\n",
    "df1.head(1)\n",
    "df2 = pd.get_dummies(train_data['weather_type'],prefix=\"Weather\")\n",
    "df2.head(2)\n",
    "train_data=train_data.drop([\"is_holiday\",\"weather_type\"],axis=1)\n",
    "df1.info()\n",
    "df2.info()\n",
    "train_data=pd.concat([train_data,df1,df2],axis=1)"
   ]
  },
  {
   "cell_type": "code",
   "execution_count": 12,
   "metadata": {},
   "outputs": [],
   "source": [
    "train_data=train_data.drop('Weather_Squall',axis=1)\n"
   ]
  },
  {
   "cell_type": "code",
   "execution_count": 13,
   "metadata": {},
   "outputs": [],
   "source": [
    "train_data['date_time'] = pd.to_datetime(train_data['date_time'])"
   ]
  },
  {
   "cell_type": "code",
   "execution_count": 14,
   "metadata": {
    "collapsed": true
   },
   "outputs": [],
   "source": [
    "#Date Feature Engineering\n",
    "train_data['year'] = pd.DatetimeIndex(train_data['date_time']).year\n",
    "train_data['month'] = pd.DatetimeIndex(train_data['date_time']).month\n",
    "train_data['day'] = pd.DatetimeIndex(train_data['date_time']).day\n",
    "train_data['dayofweek'] = pd.DatetimeIndex(train_data['date_time']).dayofweek"
   ]
  },
  {
   "cell_type": "code",
   "execution_count": 16,
   "metadata": {
    "collapsed": true
   },
   "outputs": [],
   "source": [
    "X=train_data.drop(['air_pollution_index','date_time'],axis=1).values\n",
    "y=train_data['air_pollution_index'].values\n",
    "X_train,X_test,y_train,y_test=train_test_split(X,y,random_state=20,test_size=0.2,stratify=y)"
   ]
  },
  {
   "cell_type": "code",
   "execution_count": 17,
   "metadata": {},
   "outputs": [
    {
     "data": {
      "text/plain": [
       "LinearRegression(copy_X=True, fit_intercept=True, n_jobs=1, normalize=False)"
      ]
     },
     "execution_count": 17,
     "metadata": {},
     "output_type": "execute_result"
    }
   ],
   "source": [
    "model = LinearRegression()\n",
    "model.fit(X_train,y_train)"
   ]
  },
  {
   "cell_type": "code",
   "execution_count": 18,
   "metadata": {
    "collapsed": true
   },
   "outputs": [],
   "source": [
    "y_pred = model.predict(X_test)"
   ]
  },
  {
   "cell_type": "code",
   "execution_count": 23,
   "metadata": {},
   "outputs": [],
   "source": [
    "from sklearn.metrics import mean_absolute_error"
   ]
  },
  {
   "cell_type": "code",
   "execution_count": 26,
   "metadata": {},
   "outputs": [
    {
     "data": {
      "text/plain": [
       "27.488728605224154"
      ]
     },
     "execution_count": 26,
     "metadata": {},
     "output_type": "execute_result"
    }
   ],
   "source": [
    "max(0,100-mean_absolute_error(y_pred,y_test))"
   ]
  }
 ],
 "metadata": {
  "kernelspec": {
   "display_name": "Python 3",
   "language": "python",
   "name": "python3"
  },
  "language_info": {
   "codemirror_mode": {
    "name": "ipython",
    "version": 3
   },
   "file_extension": ".py",
   "mimetype": "text/x-python",
   "name": "python",
   "nbconvert_exporter": "python",
   "pygments_lexer": "ipython3",
   "version": "3.6.3"
  }
 },
 "nbformat": 4,
 "nbformat_minor": 2
}
